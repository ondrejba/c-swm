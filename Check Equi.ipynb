{
 "cells": [
  {
   "cell_type": "code",
   "execution_count": 13,
   "metadata": {
    "ExecuteTime": {
     "end_time": "2020-12-18T16:25:38.451530Z",
     "start_time": "2020-12-18T16:25:38.444878Z"
    }
   },
   "outputs": [],
   "source": [
    "import utils\n",
    "from modules import RotEncoderMLP\n",
    "import torch\n",
    "import matplotlib.pyplot as mpl"
   ]
  },
  {
   "cell_type": "code",
   "execution_count": 5,
   "metadata": {
    "ExecuteTime": {
     "end_time": "2020-12-18T16:23:11.912400Z",
     "start_time": "2020-12-18T16:23:11.903060Z"
    }
   },
   "outputs": [],
   "source": [
    "RMLP = RotEncoderMLP(input_dim=7,output_dim=2,hidden_dim=256,num_objects=5)"
   ]
  },
  {
   "cell_type": "code",
   "execution_count": 10,
   "metadata": {
    "ExecuteTime": {
     "end_time": "2020-12-18T16:24:49.675482Z",
     "start_time": "2020-12-18T16:24:49.669122Z"
    }
   },
   "outputs": [],
   "source": [
    "x = torch.rand(1,1,5,5)"
   ]
  },
  {
   "cell_type": "code",
   "execution_count": 20,
   "metadata": {
    "ExecuteTime": {
     "end_time": "2020-12-18T16:28:30.146587Z",
     "start_time": "2020-12-18T16:28:30.129257Z"
    }
   },
   "outputs": [],
   "source": [
    "f_x = RMLP(x)"
   ]
  },
  {
   "cell_type": "code",
   "execution_count": 21,
   "metadata": {
    "ExecuteTime": {
     "end_time": "2020-12-18T16:28:30.624945Z",
     "start_time": "2020-12-18T16:28:30.618231Z"
    }
   },
   "outputs": [
    {
     "data": {
      "text/plain": [
       "torch.Size([1, 1, 4, 2])"
      ]
     },
     "execution_count": 21,
     "metadata": {},
     "output_type": "execute_result"
    }
   ],
   "source": [
    "f_x.shape"
   ]
  },
  {
   "cell_type": "code",
   "execution_count": 22,
   "metadata": {
    "ExecuteTime": {
     "end_time": "2020-12-18T16:28:31.305163Z",
     "start_time": "2020-12-18T16:28:31.170014Z"
    }
   },
   "outputs": [
    {
     "data": {
      "text/plain": [
       "<matplotlib.image.AxesImage at 0x7f2731f1bd10>"
      ]
     },
     "execution_count": 22,
     "metadata": {},
     "output_type": "execute_result"
    },
    {
     "data": {
      "image/png": "[encoded data removed]",
      "text/plain": [
       "<Figure size 288x288 with 1 Axes>"
      ]
     },
     "metadata": {
      "needs_background": "light"
     },
     "output_type": "display_data"
    }
   ],
   "source": [
    "mpl.matshow(x.squeeze())"
   ]
  },
  {
   "cell_type": "code",
   "execution_count": 23,
   "metadata": {
    "ExecuteTime": {
     "end_time": "2020-12-18T16:28:32.350119Z",
     "start_time": "2020-12-18T16:28:32.207983Z"
    },
    "scrolled": true
   },
   "outputs": [
    {
     "data": {
      "text/plain": [
       "<matplotlib.image.AxesImage at 0x7f2732103f50>"
      ]
     },
     "execution_count": 23,
     "metadata": {},
     "output_type": "execute_result"
    },
    {
     "data": {
      "image/png": "[encoded data removed]",
      "text/plain": [
       "<Figure size 288x288 with 1 Axes>"
      ]
     },
     "metadata": {
      "needs_background": "light"
     },
     "output_type": "display_data"
    }
   ],
   "source": [
    "mpl.matshow(RMLP.rot90(x).squeeze())"
   ]
  },
  {
   "cell_type": "code",
   "execution_count": 18,
   "metadata": {
    "ExecuteTime": {
     "end_time": "2020-12-18T16:27:47.611739Z",
     "start_time": "2020-12-18T16:27:47.603857Z"
    }
   },
   "outputs": [],
   "source": [
    "rot_x = RMLP.rot90(x)"
   ]
  },
  {
   "cell_type": "code",
   "execution_count": 24,
   "metadata": {
    "ExecuteTime": {
     "end_time": "2020-12-18T16:29:28.372030Z",
     "start_time": "2020-12-18T16:29:28.362662Z"
    }
   },
   "outputs": [],
   "source": [
    "f_rot_x = RMLP(rot_x)"
   ]
  },
  {
   "cell_type": "code",
   "execution_count": 27,
   "metadata": {
    "ExecuteTime": {
     "end_time": "2020-12-18T16:29:52.647359Z",
     "start_time": "2020-12-18T16:29:52.637434Z"
    }
   },
   "outputs": [
    {
     "data": {
      "text/plain": [
       "tensor([[[[-0.1879, -0.5816],\n",
       "          [-0.3944, -0.6199],\n",
       "          [-0.5413, -0.6660],\n",
       "          [-0.5261, -0.7486]]]], grad_fn=<AddBackward0>)"
      ]
     },
     "execution_count": 27,
     "metadata": {},
     "output_type": "execute_result"
    }
   ],
   "source": [
    "f_rot_x"
   ]
  },
  {
   "cell_type": "code",
   "execution_count": 40,
   "metadata": {
    "ExecuteTime": {
     "end_time": "2020-12-18T17:13:33.571634Z",
     "start_time": "2020-12-18T17:13:33.565850Z"
    }
   },
   "outputs": [
    {
     "name": "stdout",
     "output_type": "stream",
     "text": [
      "f(x):\n",
      " tensor([[[[-0.5261, -0.7486],\n",
      "          [-0.1879, -0.5816],\n",
      "          [-0.3944, -0.6199],\n",
      "          [-0.5413, -0.6660]]]], grad_fn=<AddBackward0>)\n",
      "rot(f(x)):\n",
      " tensor([[[[-0.1879, -0.5816],\n",
      "          [-0.3944, -0.6199],\n",
      "          [-0.5413, -0.6660],\n",
      "          [-0.5261, -0.7486]]]], grad_fn=<RollBackward>)\n"
     ]
    }
   ],
   "source": [
    "# [1,1,4,2]\n",
    "print(\"f(x):\\n\",f_x)\n",
    "rot_f_x = torch.roll(f_x,-1,2)\n",
    "print(\"rot(f(x)):\\n\",rot_f_x)"
   ]
  },
  {
   "cell_type": "code",
   "execution_count": 37,
   "metadata": {
    "ExecuteTime": {
     "end_time": "2020-12-18T16:36:26.175061Z",
     "start_time": "2020-12-18T16:36:26.169445Z"
    }
   },
   "outputs": [
    {
     "data": {
      "text/plain": [
       "tensor([[[[-0.1879, -0.5816],\n",
       "          [-0.3944, -0.6199],\n",
       "          [-0.5413, -0.6660],\n",
       "          [-0.5261, -0.7486]]]], grad_fn=<RollBackward>)"
      ]
     },
     "execution_count": 37,
     "metadata": {},
     "output_type": "execute_result"
    }
   ],
   "source": [
    "rot_f_x"
   ]
  },
  {
   "cell_type": "code",
   "execution_count": 38,
   "metadata": {
    "ExecuteTime": {
     "end_time": "2020-12-18T16:36:26.571085Z",
     "start_time": "2020-12-18T16:36:26.566188Z"
    }
   },
   "outputs": [
    {
     "data": {
      "text/plain": [
       "tensor([[[[-0.1879, -0.5816],\n",
       "          [-0.3944, -0.6199],\n",
       "          [-0.5413, -0.6660],\n",
       "          [-0.5261, -0.7486]]]], grad_fn=<AddBackward0>)"
      ]
     },
     "execution_count": 38,
     "metadata": {},
     "output_type": "execute_result"
    }
   ],
   "source": [
    "f_rot_x"
   ]
  },
  {
   "cell_type": "code",
   "execution_count": null,
   "metadata": {},
   "outputs": [],
   "source": []
  }
 ],
 "metadata": {
  "kernelspec": {
   "display_name": "tf-gpu",
   "language": "python",
   "name": "tf-gpu"
  },
  "language_info": {
   "codemirror_mode": {
    "name": "ipython",
    "version": 3
   },
   "file_extension": ".py",
   "mimetype": "text/x-python",
   "name": "python",
   "nbconvert_exporter": "python",
   "pygments_lexer": "ipython3",
   "version": "3.7.7"
  }
 },
 "nbformat": 4,
 "nbformat_minor": 2
}
