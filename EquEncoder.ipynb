{
 "cells": [
  {
   "cell_type": "code",
   "execution_count": 8,
   "metadata": {
    "ExecuteTime": {
     "end_time": "2021-02-11T18:38:01.766554Z",
     "start_time": "2021-02-11T18:38:01.752921Z"
    }
   },
   "outputs": [],
   "source": [
    "from e2cnn import gspaces                                          #  1\n",
    "from e2cnn import nn as e2nn                                               #  2\n",
    "import torch                                                       #  3\n",
    "                                                                   #  4\n",
    "r2_act = gspaces.Rot2dOnR2(N=4)                                    #  5\n",
    "feat_type_in  = e2nn.FieldType(r2_act,  3*[r2_act.trivial_repr])     #  6\n",
    "feat_type_out = e2nn.FieldType(r2_act, 10*[r2_act.regular_repr])     #  7\n",
    "                                                                   #  8\n",
    "conv = e2nn.R2Conv(feat_type_in, feat_type_out, kernel_size=5)       #  9\n",
    "relu = e2nn.ReLU(feat_type_out)                                      # 10\n",
    "                                                                   # 11\n",
    "x = torch.randn(16, 3, 32, 32)                                     # 12\n",
    "x = e2nn.GeometricTensor(x, feat_type_in)                            # 13\n",
    "                                                                   # 14\n",
    "y = relu(conv(x))                                                  "
   ]
  },
  {
   "cell_type": "code",
   "execution_count": 9,
   "metadata": {
    "ExecuteTime": {
     "end_time": "2021-02-11T18:38:10.779486Z",
     "start_time": "2021-02-11T18:38:02.562901Z"
    }
   },
   "outputs": [
    {
     "data": {
      "image/png": "[encoded data removed]",
      "text/plain": [
       "<Figure size 432x288 with 1 Axes>"
      ]
     },
     "metadata": {
      "needs_background": "light"
     },
     "output_type": "display_data"
    },
    {
     "ename": "KeyboardInterrupt",
     "evalue": "Interrupted by user",
     "output_type": "error",
     "traceback": [
      "\u001b[0;31m---------------------------------------------------------------------------\u001b[0m",
      "\u001b[0;31mKeyboardInterrupt\u001b[0m                         Traceback (most recent call last)",
      "\u001b[0;32m<ipython-input-9-c2be68297cae>\u001b[0m in \u001b[0;36m<module>\u001b[0;34m\u001b[0m\n\u001b[1;32m     34\u001b[0m \u001b[0;34m\u001b[0m\u001b[0m\n\u001b[1;32m     35\u001b[0m \u001b[0;34m\u001b[0m\u001b[0m\n\u001b[0;32m---> 36\u001b[0;31m \u001b[0mmain\u001b[0m\u001b[0;34m(\u001b[0m\u001b[0;34m)\u001b[0m\u001b[0;34m\u001b[0m\u001b[0;34m\u001b[0m\u001b[0m\n\u001b[0m",
      "\u001b[0;32m<ipython-input-9-c2be68297cae>\u001b[0m in \u001b[0;36mmain\u001b[0;34m()\u001b[0m\n\u001b[1;32m     23\u001b[0m \u001b[0;34m\u001b[0m\u001b[0m\n\u001b[1;32m     24\u001b[0m         \u001b[0;32mwhile\u001b[0m \u001b[0;32mTrue\u001b[0m\u001b[0;34m:\u001b[0m\u001b[0;34m\u001b[0m\u001b[0;34m\u001b[0m\u001b[0m\n\u001b[0;32m---> 25\u001b[0;31m             \u001b[0mx\u001b[0m \u001b[0;34m=\u001b[0m \u001b[0minput\u001b[0m\u001b[0;34m(\u001b[0m\u001b[0;34m\"action: \"\u001b[0m\u001b[0;34m)\u001b[0m\u001b[0;34m\u001b[0m\u001b[0;34m\u001b[0m\u001b[0m\n\u001b[0m\u001b[1;32m     26\u001b[0m             \u001b[0;32mtry\u001b[0m\u001b[0;34m:\u001b[0m\u001b[0;34m\u001b[0m\u001b[0;34m\u001b[0m\u001b[0m\n\u001b[1;32m     27\u001b[0m                 \u001b[0mx\u001b[0m \u001b[0;34m=\u001b[0m \u001b[0mint\u001b[0m\u001b[0;34m(\u001b[0m\u001b[0mx\u001b[0m\u001b[0;34m)\u001b[0m\u001b[0;34m\u001b[0m\u001b[0;34m\u001b[0m\u001b[0m\n",
      "\u001b[0;32m~/c-swm/venv/lib/python3.7/site-packages/ipykernel/kernelbase.py\u001b[0m in \u001b[0;36mraw_input\u001b[0;34m(self, prompt)\u001b[0m\n\u001b[1;32m    858\u001b[0m             \u001b[0mself\u001b[0m\u001b[0;34m.\u001b[0m\u001b[0m_parent_ident\u001b[0m\u001b[0;34m,\u001b[0m\u001b[0;34m\u001b[0m\u001b[0;34m\u001b[0m\u001b[0m\n\u001b[1;32m    859\u001b[0m             \u001b[0mself\u001b[0m\u001b[0;34m.\u001b[0m\u001b[0m_parent_header\u001b[0m\u001b[0;34m,\u001b[0m\u001b[0;34m\u001b[0m\u001b[0;34m\u001b[0m\u001b[0m\n\u001b[0;32m--> 860\u001b[0;31m             \u001b[0mpassword\u001b[0m\u001b[0;34m=\u001b[0m\u001b[0;32mFalse\u001b[0m\u001b[0;34m,\u001b[0m\u001b[0;34m\u001b[0m\u001b[0;34m\u001b[0m\u001b[0m\n\u001b[0m\u001b[1;32m    861\u001b[0m         )\n\u001b[1;32m    862\u001b[0m \u001b[0;34m\u001b[0m\u001b[0m\n",
      "\u001b[0;32m~/c-swm/venv/lib/python3.7/site-packages/ipykernel/kernelbase.py\u001b[0m in \u001b[0;36m_input_request\u001b[0;34m(self, prompt, ident, parent, password)\u001b[0m\n\u001b[1;32m    899\u001b[0m             \u001b[0;32mexcept\u001b[0m \u001b[0mKeyboardInterrupt\u001b[0m\u001b[0;34m:\u001b[0m\u001b[0;34m\u001b[0m\u001b[0;34m\u001b[0m\u001b[0m\n\u001b[1;32m    900\u001b[0m                 \u001b[0;31m# re-raise KeyboardInterrupt, to truncate traceback\u001b[0m\u001b[0;34m\u001b[0m\u001b[0;34m\u001b[0m\u001b[0;34m\u001b[0m\u001b[0m\n\u001b[0;32m--> 901\u001b[0;31m                 \u001b[0;32mraise\u001b[0m \u001b[0mKeyboardInterrupt\u001b[0m\u001b[0;34m(\u001b[0m\u001b[0;34m\"Interrupted by user\"\u001b[0m\u001b[0;34m)\u001b[0m \u001b[0;32mfrom\u001b[0m \u001b[0;32mNone\u001b[0m\u001b[0;34m\u001b[0m\u001b[0;34m\u001b[0m\u001b[0m\n\u001b[0m\u001b[1;32m    902\u001b[0m             \u001b[0;32mexcept\u001b[0m \u001b[0mException\u001b[0m \u001b[0;32mas\u001b[0m \u001b[0me\u001b[0m\u001b[0;34m:\u001b[0m\u001b[0;34m\u001b[0m\u001b[0;34m\u001b[0m\u001b[0m\n\u001b[1;32m    903\u001b[0m                 \u001b[0mself\u001b[0m\u001b[0;34m.\u001b[0m\u001b[0mlog\u001b[0m\u001b[0;34m.\u001b[0m\u001b[0mwarning\u001b[0m\u001b[0;34m(\u001b[0m\u001b[0;34m\"Invalid Message:\"\u001b[0m\u001b[0;34m,\u001b[0m \u001b[0mexc_info\u001b[0m\u001b[0;34m=\u001b[0m\u001b[0;32mTrue\u001b[0m\u001b[0;34m)\u001b[0m\u001b[0;34m\u001b[0m\u001b[0;34m\u001b[0m\u001b[0m\n",
      "\u001b[0;31mKeyboardInterrupt\u001b[0m: Interrupted by user"
     ]
    }
   ],
   "source": [
    "\n",
    "\n",
    "\n",
    "import matplotlib\n",
    "import matplotlib.pyplot as plt\n",
    "\n",
    "%matplotlib inline\n",
    "\n",
    "from envs.block_pushing import BlockPushing\n",
    "#from envs.block_pushing_cursor import BlockPushingCursor\n",
    "import utils\n",
    "\n",
    "#matplotlib.use(\"TkAgg\")\n",
    "\n",
    "\n",
    "def main():\n",
    "\n",
    "    env = BlockPushing(render_type=\"shapes\")\n",
    "    env.reset()\n",
    "\n",
    "    while True:\n",
    "\n",
    "        img = env.render()\n",
    "        plt.imshow(utils.css_to_ssc(img))\n",
    "        plt.show()\n",
    "\n",
    "        while True:\n",
    "            x = input(\"action: \")\n",
    "            try:\n",
    "                x = int(x)\n",
    "            except Exception:\n",
    "                continue\n",
    "            if x < 8:\n",
    "                break\n",
    "\n",
    "        env.step(x)\n",
    "\n",
    "\n",
    "main()\n"
   ]
  },
  {
   "cell_type": "code",
   "execution_count": 10,
   "metadata": {
    "ExecuteTime": {
     "end_time": "2021-02-11T18:38:25.353899Z",
     "start_time": "2021-02-11T18:38:25.346132Z"
    }
   },
   "outputs": [],
   "source": [
    "from torch import nn\n",
    "\n",
    "class EncoderCNNSmall(nn.Module):\n",
    "    \"\"\"CNN encoder, maps observation to obj-specific feature maps.\"\"\"\n",
    "    \n",
    "    def __init__(self, input_dim, hidden_dim, num_objects, act_fn='sigmoid',\n",
    "                 act_fn_hid='relu'):\n",
    "        super(EncoderCNNSmall, self).__init__()\n",
    "        self.cnn1 = nn.Conv2d(\n",
    "            input_dim, hidden_dim, (10, 10), stride=10)\n",
    "        self.cnn2 = nn.Conv2d(hidden_dim, num_objects, (1, 1), stride=1)\n",
    "        self.ln1 = nn.BatchNorm2d(hidden_dim)\n",
    "        self.act1 = utils.get_act_fn(act_fn_hid)\n",
    "        self.act2 = utils.get_act_fn(act_fn)\n",
    "\n",
    "    def forward(self, obs):\n",
    "        h = self.act1(self.ln1(self.cnn1(obs)))\n",
    "        return self.act2(self.cnn2(h))"
   ]
  },
  {
   "cell_type": "code",
   "execution_count": 26,
   "metadata": {
    "ExecuteTime": {
     "end_time": "2021-02-11T22:58:54.307730Z",
     "start_time": "2021-02-11T22:58:54.271113Z"
    }
   },
   "outputs": [
    {
     "name": "stdout",
     "output_type": "stream",
     "text": [
      "tensor([[[[3.0418, 1.8016, 1.3605, 1.8474, 1.2641],\n",
      "          [1.8849, 1.2542, 1.3523, 2.2584, 1.0478],\n",
      "          [1.2163, 2.2520, 0.6572, 2.5555, 1.3369],\n",
      "          [1.6095, 2.7063, 1.1739, 2.6276, 2.5154],\n",
      "          [1.3295, 2.5012, 1.3928, 0.5362, 0.7463]]]], grad_fn=<ReluBackward0>)\n"
     ]
    }
   ],
   "source": [
    "r2_act = gspaces.Rot2dOnR2(N=4) \n",
    " \n",
    "feat_type_in = e2nn.FieldType(r2_act, 3*[r2_act.trivial_repr])\n",
    "feat_type_hid = e2nn.FieldType(r2_act, (512//16)//4*[r2_act.regular_repr])\n",
    "feat_type_out = e2nn.FieldType(r2_act, 1*[r2_act.trivial_repr])\n",
    "\n",
    "EqEnc = e2nn.SequentialModule(\n",
    "    e2nn.R2Conv(feat_type_in, feat_type_hid, kernel_size=10,stride=10),\n",
    "    e2nn.InnerBatchNorm(feat_type_hid),\n",
    "    e2nn.ReLU(feat_type_hid),\n",
    "    e2nn.R2Conv(feat_type_hid, feat_type_out, kernel_size=1),\n",
    "    e2nn.ReLU(feat_type_out),\n",
    ").eval()\n",
    "\n",
    "x = torch.randn(1, 3, 50, 50)    \n",
    "x = e2nn.GeometricTensor(x, feat_type_in)                         \n",
    "\n",
    "\n",
    "output = (EqEnc(x)).tensor\n",
    "\n",
    "print(output)\n"
   ]
  },
  {
   "cell_type": "code",
   "execution_count": 27,
   "metadata": {
    "ExecuteTime": {
     "end_time": "2021-02-11T22:58:56.468003Z",
     "start_time": "2021-02-11T22:58:56.462273Z"
    }
   },
   "outputs": [],
   "source": [
    "class E2SmallEnc(torch.nn.Module):\n",
    "    def __init__(self, hidden_dim):\n",
    "        \n",
    "        super(E2SmallEnc, self).__init__()\n",
    "        \n",
    "        r2_act = gspaces.Rot2dOnR2(N=4) \n",
    " \n",
    "        feat_type_in = e2nn.FieldType(r2_act, 3*[r2_act.trivial_repr])\n",
    "        feat_type_hid = e2nn.FieldType(r2_act, (hidden_dim//16)//4*[r2_act.regular_repr])\n",
    "        feat_type_out = e2nn.FieldType(r2_act, 1*[r2_act.trivial_repr])\n",
    "        \n",
    "        self.model = e2nn.SequentialModule(\n",
    "            e2nn.R2Conv(feat_type_in, feat_type_hid, kernel_size=10,stride=10),\n",
    "            e2nn.InnerBatchNorm(feat_type_hid),\n",
    "            e2nn.ReLU(feat_type_hid),\n",
    "            e2nn.R2Conv(feat_type_hid, feat_type_out, kernel_size=1),\n",
    "            e2nn.ReLU(feat_type_out),\n",
    "        )\n",
    "        \n",
    "    def forward(self, x):\n",
    "        x = e2nn.GeometricTensor(x, feat_type_in)\n",
    "        y = self.model(x)\n",
    "        return y.tensor"
   ]
  },
  {
   "cell_type": "code",
   "execution_count": 28,
   "metadata": {
    "ExecuteTime": {
     "end_time": "2021-02-11T22:58:58.042373Z",
     "start_time": "2021-02-11T22:58:58.020100Z"
    }
   },
   "outputs": [
    {
     "name": "stdout",
     "output_type": "stream",
     "text": [
      "tensor([[[[0.1089, 0.3114, 0.6947, 0.1833, 0.1996],\n",
      "          [0.7082, 0.0000, 0.1819, 0.0000, 0.0000],\n",
      "          [1.8558, 0.0000, 0.8661, 0.4274, 0.6411],\n",
      "          [0.3555, 0.0000, 0.9392, 1.6579, 0.0000],\n",
      "          [0.3705, 0.3177, 0.5029, 0.3881, 0.0000]]]], grad_fn=<ReluBackward0>)\n"
     ]
    }
   ],
   "source": [
    "EqEnc = E2SmallEnc(512)\n",
    "\n",
    "x = torch.randn(1, 3, 50, 50) \n",
    "y = EqEnc(x)\n",
    "print(y)"
   ]
  },
  {
   "cell_type": "code",
   "execution_count": 42,
   "metadata": {
    "ExecuteTime": {
     "end_time": "2021-02-11T23:08:19.290673Z",
     "start_time": "2021-02-11T23:08:19.237387Z"
    }
   },
   "outputs": [],
   "source": [
    "EqEnc = E2SmallEnc(512)\n",
    "\n",
    "r2_act = gspaces.Rot2dOnR2(N=4) \n",
    "\n",
    "feat_type_in = e2nn.FieldType(r2_act, 3*[r2_act.trivial_repr])\n",
    "\n",
    "x = torch.randn(1, 3, 50, 50)    \n",
    "x = e2nn.GeometricTensor(x, feat_type_in)   \n",
    "\n",
    "\n",
    "\n",
    "y = EqEnc(x.tensor)\n",
    "# for each group element\n",
    "for g in r2_act.testing_elements:\n",
    "    \n",
    "    x_transformed = x.transform(g)\n",
    "    y_from_x_transformed = EqEnc(x_transformed.tensor)\n",
    "    \n",
    "    y_gf = e2nn.GeometricTensor(y, feat_type_out)  \n",
    "    y_transformed_from_x = (y_gf.transform(g)).tensor\n",
    "    \n",
    "    assert torch.allclose(y_from_x_transformed, y_transformed_from_x, atol=1e-5), g"
   ]
  },
  {
   "cell_type": "code",
   "execution_count": null,
   "metadata": {},
   "outputs": [],
   "source": [
    "g= next(r2_act.testing_elements)"
   ]
  },
  {
   "cell_type": "code",
   "execution_count": 37,
   "metadata": {
    "ExecuteTime": {
     "end_time": "2021-02-11T23:07:11.762703Z",
     "start_time": "2021-02-11T23:07:11.725683Z"
    }
   },
   "outputs": [],
   "source": [
    "x = torch.randn(1, 3, 50, 50)    \n",
    "x = e2nn.GeometricTensor(x, feat_type_in)   \n",
    "\n",
    "y = EqEnc(x.tensor)\n",
    "x_transformed = x.transform(g)\n",
    "y_from_x_transformed = EqEnc(x_transformed.tensor)"
   ]
  },
  {
   "cell_type": "code",
   "execution_count": 40,
   "metadata": {
    "ExecuteTime": {
     "end_time": "2021-02-11T23:07:41.456901Z",
     "start_time": "2021-02-11T23:07:41.453731Z"
    }
   },
   "outputs": [],
   "source": [
    "y = e2nn.GeometricTensor(y, feat_type_out)  "
   ]
  },
  {
   "cell_type": "code",
   "execution_count": 47,
   "metadata": {
    "ExecuteTime": {
     "end_time": "2021-02-08T07:36:05.041775Z",
     "start_time": "2021-02-08T07:36:05.036371Z"
    }
   },
   "outputs": [],
   "source": [
    "nonEqEnc = EncoderCNNSmall(3,512//16,5)"
   ]
  },
  {
   "cell_type": "code",
   "execution_count": 42,
   "metadata": {
    "ExecuteTime": {
     "end_time": "2021-02-08T07:34:43.891306Z",
     "start_time": "2021-02-08T07:34:43.876749Z"
    }
   },
   "outputs": [],
   "source": [
    "env = BlockPushing(render_type=\"shapes\")\n",
    "env.reset()\n",
    "\n",
    "img = env.render()\n",
    "x = img\n",
    "    "
   ]
  },
  {
   "cell_type": "code",
   "execution_count": 27,
   "metadata": {
    "ExecuteTime": {
     "end_time": "2021-02-08T07:04:44.888577Z",
     "start_time": "2021-02-08T07:04:44.878908Z"
    }
   },
   "outputs": [],
   "source": [
    "xx = torch.tensor(x).unsqueeze(0)"
   ]
  },
  {
   "cell_type": "code",
   "execution_count": 30,
   "metadata": {
    "ExecuteTime": {
     "end_time": "2021-02-08T07:05:11.919514Z",
     "start_time": "2021-02-08T07:05:11.914375Z"
    }
   },
   "outputs": [
    {
     "name": "stdout",
     "output_type": "stream",
     "text": [
      "torch.Size([1, 3, 50, 50])\n",
      "torch.Size([1, 5, 5, 5])\n"
     ]
    }
   ],
   "source": [
    "yy = nonEqEnc(xx)\n",
    "print(xx.shape)\n",
    "print(yy.shape)"
   ]
  },
  {
   "cell_type": "code",
   "execution_count": 33,
   "metadata": {
    "ExecuteTime": {
     "end_time": "2021-02-08T07:07:32.892041Z",
     "start_time": "2021-02-08T07:07:32.887924Z"
    }
   },
   "outputs": [
    {
     "data": {
      "text/plain": [
       "9861"
      ]
     },
     "execution_count": 33,
     "metadata": {},
     "output_type": "execute_result"
    }
   ],
   "source": [
    "sum(parameter.numel() for parameter in nonEqEnc.parameters())"
   ]
  },
  {
   "cell_type": "code",
   "execution_count": null,
   "metadata": {},
   "outputs": [],
   "source": []
  }
 ],
 "metadata": {
  "kernelspec": {
   "display_name": "venv",
   "language": "python",
   "name": "venv"
  },
  "language_info": {
   "codemirror_mode": {
    "name": "ipython",
    "version": 3
   },
   "file_extension": ".py",
   "mimetype": "text/x-python",
   "name": "python",
   "nbconvert_exporter": "python",
   "pygments_lexer": "ipython3",
   "version": "3.7.7"
  }
 },
 "nbformat": 4,
 "nbformat_minor": 2
}
